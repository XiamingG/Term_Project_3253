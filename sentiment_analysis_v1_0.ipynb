{
  "nbformat": 4,
  "nbformat_minor": 0,
  "metadata": {
    "colab": {
      "name": "sentiment-analysis_v1.0.ipynb",
      "version": "0.3.2",
      "provenance": [],
      "machine_shape": "hm"
    },
    "kernelspec": {
      "name": "python3",
      "display_name": "Python 3"
    },
    "language_info": {
      "codemirror_mode": {
        "name": "ipython",
        "version": 3
      },
      "file_extension": ".py",
      "mimetype": "text/x-python",
      "name": "python",
      "nbconvert_exporter": "python",
      "pygments_lexer": "ipython3",
      "version": "3.6.5"
    },
    "accelerator": "GPU"
  },
  "cells": [
    {
      "cell_type": "markdown",
      "metadata": {
        "colab_type": "text",
        "id": "fquP0_2sqoo1"
      },
      "source": [
        "# Sentiment Analysis of Chinese Short Texts\n",
        "\n",
        "**SCS3253-Term Project**\n",
        "\n",
        "**Instructor: Saeid Abolfazli**\n",
        "\n",
        "**Ximaing.Gu**\n",
        "\n",
        "2019.08.20\n",
        "\n",
        "\n",
        "## Abstract\n",
        "\n",
        "This notebook classifies movie reviews as positive or negative using the text of the comments. I use two modules.\n",
        "\n",
        "* Naive_bayes Model to Classfire the reviews\n",
        "\n",
        "* tf.keras, a high-level API to build and train models in TensorFlow. \n"
      ]
    },
    {
      "cell_type": "code",
      "metadata": {
        "colab_type": "code",
        "id": "f9neZoRBqoo4",
        "colab": {}
      },
      "source": [
        "import pandas as pd\n",
        "import seaborn as sb\n",
        "import matplotlib.pyplot as plt\n",
        "\n",
        "import jieba\n",
        "\n",
        "from collections import Counter\n",
        "\n",
        "from sklearn.model_selection import train_test_split\n",
        "\n",
        "# Common imports\n",
        "import numpy as np\n",
        "import os\n"
      ],
      "execution_count": 0,
      "outputs": []
    },
    {
      "cell_type": "code",
      "metadata": {
        "id": "hiJ8wJpe7zl0",
        "colab_type": "code",
        "outputId": "895f58fd-a7f7-4242-c5cc-a2f63e4867ca",
        "colab": {
          "base_uri": "https://localhost:8080/",
          "height": 122
        }
      },
      "source": [
        "#Mount your Google drive so you can read them easilu\n",
        "from google.colab import drive\n",
        "drive.mount('/content/gdrive')"
      ],
      "execution_count": 0,
      "outputs": [
        {
          "output_type": "stream",
          "text": [
            "Go to this URL in a browser: https://accounts.google.com/o/oauth2/auth?client_id=947318989803-6bn6qk8qdgf4n4g3pfee6491hc0brc4i.apps.googleusercontent.com&redirect_uri=urn%3Aietf%3Awg%3Aoauth%3A2.0%3Aoob&scope=email%20https%3A%2F%2Fwww.googleapis.com%2Fauth%2Fdocs.test%20https%3A%2F%2Fwww.googleapis.com%2Fauth%2Fdrive%20https%3A%2F%2Fwww.googleapis.com%2Fauth%2Fdrive.photos.readonly%20https%3A%2F%2Fwww.googleapis.com%2Fauth%2Fpeopleapi.readonly&response_type=code\n",
            "\n",
            "Enter your authorization code:\n",
            "··········\n",
            "Mounted at /content/gdrive\n"
          ],
          "name": "stdout"
        }
      ]
    },
    {
      "cell_type": "markdown",
      "metadata": {
        "colab_type": "text",
        "id": "IiZ2u5_Gqoo_"
      },
      "source": [
        "# Prepare Data\n",
        "\n",
        "### 1 Download the DMSC dataset\n",
        "\n",
        "Dataset is from https://www.kaggle.com/utmhikari/doubanmovieshortcomments.\n",
        "\n",
        "Douban Movie is a Chinese website that allows Internet users to share their comments and viewpoints about movies. Users are able to post short or long comments on movies and give them marks. \n"
      ]
    },
    {
      "cell_type": "code",
      "metadata": {
        "colab_type": "code",
        "id": "EQNgpLUYqopB",
        "outputId": "e12b0f9d-b0d1-44ce-e4b4-e7e619a417c2",
        "colab": {
          "base_uri": "https://localhost:8080/",
          "height": 111
        }
      },
      "source": [
        "filePath =\"/content/gdrive/My Drive/3253_Assignment/TermProject/DMSC.csv\"\n",
        "#filePath =\"DMSC.csv\" ## local path\n",
        "\n",
        "df = pd.read_csv(filePath, encoding='UTF-8')\n",
        "df.head(2)"
      ],
      "execution_count": 0,
      "outputs": [
        {
          "output_type": "execute_result",
          "data": {
            "text/html": [
              "<div>\n",
              "<style scoped>\n",
              "    .dataframe tbody tr th:only-of-type {\n",
              "        vertical-align: middle;\n",
              "    }\n",
              "\n",
              "    .dataframe tbody tr th {\n",
              "        vertical-align: top;\n",
              "    }\n",
              "\n",
              "    .dataframe thead th {\n",
              "        text-align: right;\n",
              "    }\n",
              "</style>\n",
              "<table border=\"1\" class=\"dataframe\">\n",
              "  <thead>\n",
              "    <tr style=\"text-align: right;\">\n",
              "      <th></th>\n",
              "      <th>ID</th>\n",
              "      <th>Movie_Name_EN</th>\n",
              "      <th>Movie_Name_CN</th>\n",
              "      <th>Crawl_Date</th>\n",
              "      <th>Number</th>\n",
              "      <th>Username</th>\n",
              "      <th>Date</th>\n",
              "      <th>Star</th>\n",
              "      <th>Comment</th>\n",
              "      <th>Like</th>\n",
              "    </tr>\n",
              "  </thead>\n",
              "  <tbody>\n",
              "    <tr>\n",
              "      <th>0</th>\n",
              "      <td>0</td>\n",
              "      <td>Avengers Age of Ultron</td>\n",
              "      <td>复仇者联盟2</td>\n",
              "      <td>2017-01-22</td>\n",
              "      <td>1</td>\n",
              "      <td>然潘</td>\n",
              "      <td>2015-05-13</td>\n",
              "      <td>3</td>\n",
              "      <td>连奥创都知道整容要去韩国。</td>\n",
              "      <td>2404</td>\n",
              "    </tr>\n",
              "    <tr>\n",
              "      <th>1</th>\n",
              "      <td>1</td>\n",
              "      <td>Avengers Age of Ultron</td>\n",
              "      <td>复仇者联盟2</td>\n",
              "      <td>2017-01-22</td>\n",
              "      <td>2</td>\n",
              "      <td>更深的白色</td>\n",
              "      <td>2015-04-24</td>\n",
              "      <td>2</td>\n",
              "      <td>非常失望，剧本完全敷衍了事，主线剧情没突破大家可以理解，可所有的人物都缺乏动机，正邪之间、...</td>\n",
              "      <td>1231</td>\n",
              "    </tr>\n",
              "  </tbody>\n",
              "</table>\n",
              "</div>"
            ],
            "text/plain": [
              "   ID  ...  Like\n",
              "0   0  ...  2404\n",
              "1   1  ...  1231\n",
              "\n",
              "[2 rows x 10 columns]"
            ]
          },
          "metadata": {
            "tags": []
          },
          "execution_count": 3
        }
      ]
    },
    {
      "cell_type": "markdown",
      "metadata": {
        "colab_type": "text",
        "id": "k1IXcw9KqopJ"
      },
      "source": [
        "### 2 Label the sentiment\n",
        "\n",
        "Label movie reviews as positive or negative.  <br>\n",
        "Avoid ambiguity , we think the star >3 ,  it is positive ; < 3 , it is the negative review. Drop the data star ==3"
      ]
    },
    {
      "cell_type": "code",
      "metadata": {
        "colab_type": "code",
        "id": "wbqes9eItuPE",
        "outputId": "7be99b11-50d3-43ca-be26-9d69d356bbdc",
        "colab": {
          "base_uri": "https://localhost:8080/",
          "height": 34
        }
      },
      "source": [
        "df.shape"
      ],
      "execution_count": 0,
      "outputs": [
        {
          "output_type": "execute_result",
          "data": {
            "text/plain": [
              "(2125056, 10)"
            ]
          },
          "metadata": {
            "tags": []
          },
          "execution_count": 4
        }
      ]
    },
    {
      "cell_type": "code",
      "metadata": {
        "colab_type": "code",
        "id": "Sckg4iuwt1gp",
        "outputId": "f7473d1e-42d1-4911-84a9-b1238b6a827a",
        "colab": {
          "base_uri": "https://localhost:8080/",
          "height": 34
        }
      },
      "source": [
        "df =  df[(df.Star != 3)]\n",
        "df.shape"
      ],
      "execution_count": 0,
      "outputs": [
        {
          "output_type": "execute_result",
          "data": {
            "text/plain": [
              "(1650497, 10)"
            ]
          },
          "metadata": {
            "tags": []
          },
          "execution_count": 5
        }
      ]
    },
    {
      "cell_type": "code",
      "metadata": {
        "colab_type": "code",
        "id": "koZng16OqopL",
        "colab": {}
      },
      "source": [
        "def make_label(df):\n",
        "    df[\"sentiment\"] = df[\"Star\"].apply(lambda x: 1 if x > 3 else 0)\n",
        "        \n",
        "make_label(df)"
      ],
      "execution_count": 0,
      "outputs": []
    },
    {
      "cell_type": "markdown",
      "metadata": {
        "colab_type": "text",
        "id": "ZomWohG6qopQ"
      },
      "source": [
        "### 3 Chinese word cutted\n",
        "\n",
        "Different from the English, in Chinese, the concept of words and the boundaries between them is not always transparent,and the Chinese script does not use spaces between words.\n",
        "So first we need cut the sentence to words with using space between words.\n",
        "\n",
        "Here, import the library **jieba** to cut the sentence\n",
        "\n",
        "For example <br>\n",
        "Before  我很高兴。 （I'm happy。）<br>\n",
        "After  我 很 高兴 。<br>\n",
        "\n"
      ]
    },
    {
      "cell_type": "code",
      "metadata": {
        "colab_type": "code",
        "id": "EAGGjRk6qopR",
        "outputId": "6394ee55-84fa-4178-a5d5-ed3b029253b5",
        "colab": {
          "base_uri": "https://localhost:8080/",
          "height": 85
        }
      },
      "source": [
        "def chinese_word_cut(mytext):\n",
        "    return \" \".join(jieba.cut(mytext))\n",
        "  \n",
        "df['cutted_comment'] = df.Comment.apply(chinese_word_cut)  "
      ],
      "execution_count": 0,
      "outputs": [
        {
          "output_type": "stream",
          "text": [
            "Building prefix dict from the default dictionary ...\n",
            "Dumping model to file cache /tmp/jieba.cache\n",
            "Loading model cost 0.839 seconds.\n",
            "Prefix dict has been built succesfully.\n"
          ],
          "name": "stderr"
        }
      ]
    },
    {
      "cell_type": "markdown",
      "metadata": {
        "colab_type": "text",
        "id": "HpUQS4p6qopW"
      },
      "source": [
        "### 4 Stop words\n",
        "\n",
        "In computing, stop words are words which are filtered out before or after processing of natural language data (text).[https://en.wikipedia.org/wiki/Stop_words]\n",
        "Stop words are generally the most common words in a language, there is no single universal list of stop words used by all natural language processing tools, and indeed not all tools even use such a list. Some tools avoid removing stop words to support phrase search.\n",
        "\n",
        "Here, the library for stop words is from https://github.com/goto456/stopwords\n",
        "Use the \"哈工大停用词表.txt\""
      ]
    },
    {
      "cell_type": "code",
      "metadata": {
        "colab_type": "code",
        "id": "CNcvnJmpqopY",
        "colab": {}
      },
      "source": [
        "## Load the stop words\n",
        "def get_custom_stopwords(stop_words_file):\n",
        "    with open(stop_words_file, encoding='UTF-8') as f:\n",
        "        stopwords = f.read()\n",
        "    stopwords_list = stopwords.split('\\n')\n",
        "    custom_stopwords_list = [i for i in stopwords_list]\n",
        "    return custom_stopwords_list"
      ],
      "execution_count": 0,
      "outputs": []
    },
    {
      "cell_type": "code",
      "metadata": {
        "colab_type": "code",
        "id": "hU-GRBeKqopd",
        "colab": {}
      },
      "source": [
        "stop_words_file = \"/content/gdrive/My Drive/3253_Assignment/TermProject/stopwordsHIT.txt\"\n",
        "#stop_words_file = \"stopwordsHIT.txt\"\n",
        "\n",
        "stopwords = get_custom_stopwords(stop_words_file)"
      ],
      "execution_count": 0,
      "outputs": []
    },
    {
      "cell_type": "markdown",
      "metadata": {
        "colab_type": "text",
        "id": "BOGRf9KHqopi"
      },
      "source": [
        "show the last ten stop words."
      ]
    },
    {
      "cell_type": "code",
      "metadata": {
        "colab_type": "code",
        "id": "8gJluR6Mqopk",
        "outputId": "f223029f-c7d3-4574-ce5b-c18c7d9013ad",
        "colab": {
          "base_uri": "https://localhost:8080/",
          "height": 34
        }
      },
      "source": [
        "stopwords[-10:]"
      ],
      "execution_count": 0,
      "outputs": [
        {
          "output_type": "execute_result",
          "data": {
            "text/plain": [
              "['咚', '咦', '喏', '啐', '喔唷', '嗬', '嗯', '嗳', '。', '，']"
            ]
          },
          "metadata": {
            "tags": []
          },
          "execution_count": 10
        }
      ]
    },
    {
      "cell_type": "markdown",
      "metadata": {
        "colab_type": "text",
        "id": "-wRVaHLUqopq"
      },
      "source": [
        "#### Filter the stopwords in comments to reduce the features."
      ]
    },
    {
      "cell_type": "code",
      "metadata": {
        "colab_type": "code",
        "id": "NfBKI5BSqopr",
        "colab": {}
      },
      "source": [
        "#Filter the stop words\n",
        "def filter_stopwords(input_words):\n",
        "    return  \" \".join([c for c in input_words.split() if c not in (stopwords)]) \n",
        "    "
      ],
      "execution_count": 0,
      "outputs": []
    },
    {
      "cell_type": "code",
      "metadata": {
        "colab_type": "code",
        "id": "zKs2r6Ryqopx",
        "colab": {}
      },
      "source": [
        "df['reviews'] = df.cutted_comment.apply(filter_stopwords)"
      ],
      "execution_count": 0,
      "outputs": []
    },
    {
      "cell_type": "code",
      "metadata": {
        "colab_type": "code",
        "id": "Hb_15DWWqop7",
        "outputId": "0aa77746-173e-4aca-8ad4-efaa100cbad8",
        "colab": {
          "base_uri": "https://localhost:8080/",
          "height": 193
        }
      },
      "source": [
        "df.head(3)"
      ],
      "execution_count": 0,
      "outputs": [
        {
          "output_type": "execute_result",
          "data": {
            "text/html": [
              "<div>\n",
              "<style scoped>\n",
              "    .dataframe tbody tr th:only-of-type {\n",
              "        vertical-align: middle;\n",
              "    }\n",
              "\n",
              "    .dataframe tbody tr th {\n",
              "        vertical-align: top;\n",
              "    }\n",
              "\n",
              "    .dataframe thead th {\n",
              "        text-align: right;\n",
              "    }\n",
              "</style>\n",
              "<table border=\"1\" class=\"dataframe\">\n",
              "  <thead>\n",
              "    <tr style=\"text-align: right;\">\n",
              "      <th></th>\n",
              "      <th>ID</th>\n",
              "      <th>Movie_Name_EN</th>\n",
              "      <th>Movie_Name_CN</th>\n",
              "      <th>Crawl_Date</th>\n",
              "      <th>Number</th>\n",
              "      <th>Username</th>\n",
              "      <th>Date</th>\n",
              "      <th>Star</th>\n",
              "      <th>Comment</th>\n",
              "      <th>Like</th>\n",
              "      <th>sentiment</th>\n",
              "      <th>cutted_comment</th>\n",
              "      <th>reviews</th>\n",
              "    </tr>\n",
              "  </thead>\n",
              "  <tbody>\n",
              "    <tr>\n",
              "      <th>1</th>\n",
              "      <td>1</td>\n",
              "      <td>Avengers Age of Ultron</td>\n",
              "      <td>复仇者联盟2</td>\n",
              "      <td>2017-01-22</td>\n",
              "      <td>2</td>\n",
              "      <td>更深的白色</td>\n",
              "      <td>2015-04-24</td>\n",
              "      <td>2</td>\n",
              "      <td>非常失望，剧本完全敷衍了事，主线剧情没突破大家可以理解，可所有的人物都缺乏动机，正邪之间、...</td>\n",
              "      <td>1231</td>\n",
              "      <td>0</td>\n",
              "      <td>非常 失望 ， 剧本 完全 敷衍了事 ， 主线 剧情 没 突破 大家 可以 理解 ， 可...</td>\n",
              "      <td>非常 失望 剧本 完全 敷衍了事 主线 剧情 没 突破 大家 理解 所有 人物 都 缺乏 动...</td>\n",
              "    </tr>\n",
              "    <tr>\n",
              "      <th>2</th>\n",
              "      <td>2</td>\n",
              "      <td>Avengers Age of Ultron</td>\n",
              "      <td>复仇者联盟2</td>\n",
              "      <td>2017-01-22</td>\n",
              "      <td>3</td>\n",
              "      <td>有意识的贱民</td>\n",
              "      <td>2015-04-26</td>\n",
              "      <td>2</td>\n",
              "      <td>2015年度最失望作品。以为面面俱到，实则画蛇添足；以为主题深刻，实则老调重弹；以为推陈出...</td>\n",
              "      <td>1052</td>\n",
              "      <td>0</td>\n",
              "      <td>2015 年度 最 失望 作品 。 以为 面面俱到 ， 实则 画蛇添足 ； 以为 主题深...</td>\n",
              "      <td>2015 年度 最 失望 作品 以为 面面俱到 实则 画蛇添足 以为 主题深刻 实则 老调重...</td>\n",
              "    </tr>\n",
              "    <tr>\n",
              "      <th>3</th>\n",
              "      <td>3</td>\n",
              "      <td>Avengers Age of Ultron</td>\n",
              "      <td>复仇者联盟2</td>\n",
              "      <td>2017-01-22</td>\n",
              "      <td>4</td>\n",
              "      <td>不老的李大爷耶</td>\n",
              "      <td>2015-04-23</td>\n",
              "      <td>4</td>\n",
              "      <td>《铁人2》中勾引钢铁侠，《妇联1》中勾引鹰眼，《美队2》中勾引美国队长，在《妇联2》中终于...</td>\n",
              "      <td>1045</td>\n",
              "      <td>1</td>\n",
              "      <td>《 铁人 2 》 中 勾引 钢铁 侠 ， 《 妇联 1 》 中 勾引 鹰眼 ， 《 美队...</td>\n",
              "      <td>铁人 2 中 勾引 钢铁 侠 妇联 1 中 勾引 鹰眼 美队 2 中 勾引 美国 队长 妇联...</td>\n",
              "    </tr>\n",
              "  </tbody>\n",
              "</table>\n",
              "</div>"
            ],
            "text/plain": [
              "   ID  ...                                            reviews\n",
              "1   1  ...  非常 失望 剧本 完全 敷衍了事 主线 剧情 没 突破 大家 理解 所有 人物 都 缺乏 动...\n",
              "2   2  ...  2015 年度 最 失望 作品 以为 面面俱到 实则 画蛇添足 以为 主题深刻 实则 老调重...\n",
              "3   3  ...  铁人 2 中 勾引 钢铁 侠 妇联 1 中 勾引 鹰眼 美队 2 中 勾引 美国 队长 妇联...\n",
              "\n",
              "[3 rows x 13 columns]"
            ]
          },
          "metadata": {
            "tags": []
          },
          "execution_count": 13
        }
      ]
    },
    {
      "cell_type": "markdown",
      "metadata": {
        "colab_type": "text",
        "id": "GHQmtE6RqoqA"
      },
      "source": [
        "### 5 Clean the data\n",
        "Drop the len of reviews == 0"
      ]
    },
    {
      "cell_type": "code",
      "metadata": {
        "colab_type": "code",
        "id": "95Z8to5kqop2",
        "colab": {}
      },
      "source": [
        "df['comment_len'] = df['reviews'].apply(lambda x: len(x))"
      ],
      "execution_count": 0,
      "outputs": []
    },
    {
      "cell_type": "code",
      "metadata": {
        "colab_type": "code",
        "id": "s9AR8AUDqoqC",
        "colab": {}
      },
      "source": [
        "data = df[(df.comment_len > 0)]"
      ],
      "execution_count": 0,
      "outputs": []
    },
    {
      "cell_type": "markdown",
      "metadata": {
        "colab_type": "text",
        "id": "dRcHAsPnqoqH"
      },
      "source": [
        "# Naive_bayes Model to Classfire the reviews"
      ]
    },
    {
      "cell_type": "markdown",
      "metadata": {
        "colab_type": "text",
        "id": "g8IcUg83qoqJ"
      },
      "source": [
        "### Bag of Words\n",
        "LDA processes documents as a ‘bag of words’. Bag of words means you view the frequency of the words in a document with no regard for the order the words appeared in."
      ]
    },
    {
      "cell_type": "code",
      "metadata": {
        "colab_type": "code",
        "id": "2wBjyFGtqoqL",
        "colab": {}
      },
      "source": [
        "from sklearn.feature_extraction.text import CountVectorizer\n",
        "\n",
        "from sklearn.naive_bayes import MultinomialNB\n",
        "\n",
        "from sklearn.pipeline import make_pipeline\n",
        "\n",
        "from sklearn import metrics\n"
      ],
      "execution_count": 0,
      "outputs": []
    },
    {
      "cell_type": "markdown",
      "metadata": {
        "colab_type": "text",
        "id": "ZcilA-jHqoqQ"
      },
      "source": [
        "### Split the data to training and set data set\n",
        "70% training, 30% test"
      ]
    },
    {
      "cell_type": "code",
      "metadata": {
        "colab_type": "code",
        "id": "WIpS7CxLqoqR",
        "outputId": "133bcc66-934a-4957-8bd1-c45603c058f0",
        "colab": {
          "base_uri": "https://localhost:8080/",
          "height": 34
        }
      },
      "source": [
        "X = data.reviews\n",
        "y = data.sentiment\n",
        "\n",
        "X_train, X_test, y_train, y_test = train_test_split(X, y, test_size=0.7, random_state=42)\n",
        "\n",
        "X_train.shape, X_test.shape, y_train.shape, y_test.shape"
      ],
      "execution_count": 0,
      "outputs": [
        {
          "output_type": "execute_result",
          "data": {
            "text/plain": [
              "((493736,), (1152052,), (493736,), (1152052,))"
            ]
          },
          "metadata": {
            "tags": []
          },
          "execution_count": 17
        }
      ]
    },
    {
      "cell_type": "markdown",
      "metadata": {
        "colab_type": "text",
        "id": "izm5wfOkqoqX"
      },
      "source": [
        "### Vectorization\n",
        "Choose features\n",
        "* Numbers make no sense without units and context. Set token_pattern to filter numbers\n",
        "* The words used commonly should not be the features\n",
        "* Those too special words, in fact, should not be retained\n",
        "\n"
      ]
    },
    {
      "cell_type": "code",
      "metadata": {
        "colab_type": "code",
        "id": "itlkdgqKqoqY",
        "colab": {}
      },
      "source": [
        "max_df = 0.8 # too common\n",
        "min_df = 3 #  too special\n",
        "\n",
        "vect = CountVectorizer(max_df = max_df,\n",
        "                       min_df = min_df,\n",
        "                       token_pattern=u'(?u)\\\\b[^\\\\d\\\\W]\\\\w+\\\\b',\n",
        "                       stop_words=frozenset(stopwords))"
      ],
      "execution_count": 0,
      "outputs": []
    },
    {
      "cell_type": "markdown",
      "metadata": {
        "id": "qUFJieLA7zmg",
        "colab_type": "text"
      },
      "source": [
        "Show the data format use smaller dataset, just for testing."
      ]
    },
    {
      "cell_type": "code",
      "metadata": {
        "id": "VhnKEOIx7zmh",
        "colab_type": "code",
        "outputId": "d02a9d2e-7ed6-4dee-9f11-3ba1f9f4bc32",
        "colab": {
          "base_uri": "https://localhost:8080/",
          "height": 338
        }
      },
      "source": [
        "tmp = X_train[:1000]\n",
        "term_matrix = pd.DataFrame(vect.fit_transform(tmp).toarray(), columns=vect.get_feature_names())\n",
        "term_matrix.head(5)"
      ],
      "execution_count": 0,
      "outputs": [
        {
          "output_type": "stream",
          "text": [
            "/usr/local/lib/python3.6/dist-packages/sklearn/feature_extraction/text.py:300: UserWarning: Your stop_words may be inconsistent with your preprocessing. Tokenizing the stop words generated tokens ['exp', 'lex', '①①', '①②', '①③', '①④', '①⑤', '①⑥', '①⑦', '①⑧', '①⑨', '①ａ', '①ｂ', '①ｃ', '①ｄ', '①ｅ', '①ｆ', '①ｇ', '①ｈ', '①ｉ', '①ｏ', '②①', '②②', '②③', '②④', '②⑤', '②⑥', '②⑦', '②⑧', '②⑩', '②ａ', '②ｂ', '②ｄ', '②ｅ', '②ｆ', '②ｇ', '②ｈ', '②ｉ', '②ｊ', '③①', '③⑩', '③ａ', '③ｂ', '③ｃ', '③ｄ', '③ｅ', '③ｆ', '③ｇ', '③ｈ', '④ａ', '④ｂ', '④ｃ', '④ｄ', '④ｅ', '⑤ａ', '⑤ｂ', '⑤ｄ', '⑤ｅ', '⑤ｆ', 'ｌｉ', 'ｚｘｆｉｔｌ'] not in stop_words.\n",
            "  'stop_words.' % sorted(inconsistent))\n"
          ],
          "name": "stderr"
        },
        {
          "output_type": "execute_result",
          "data": {
            "text/html": [
              "<div>\n",
              "<style scoped>\n",
              "    .dataframe tbody tr th:only-of-type {\n",
              "        vertical-align: middle;\n",
              "    }\n",
              "\n",
              "    .dataframe tbody tr th {\n",
              "        vertical-align: top;\n",
              "    }\n",
              "\n",
              "    .dataframe thead th {\n",
              "        text-align: right;\n",
              "    }\n",
              "</style>\n",
              "<table border=\"1\" class=\"dataframe\">\n",
              "  <thead>\n",
              "    <tr style=\"text-align: right;\">\n",
              "      <th></th>\n",
              "      <th>boss</th>\n",
              "      <th>bug</th>\n",
              "      <th>imax</th>\n",
              "      <th>mv</th>\n",
              "      <th>ps</th>\n",
              "      <th>一下</th>\n",
              "      <th>一分</th>\n",
              "      <th>一切都是</th>\n",
              "      <th>一句</th>\n",
              "      <th>一场</th>\n",
              "      <th>一块</th>\n",
              "      <th>一如既往</th>\n",
              "      <th>一定</th>\n",
              "      <th>一帧</th>\n",
              "      <th>一星</th>\n",
              "      <th>一次</th>\n",
              "      <th>一段</th>\n",
              "      <th>一点</th>\n",
              "      <th>一片</th>\n",
              "      <th>一生</th>\n",
              "      <th>一看</th>\n",
              "      <th>一种</th>\n",
              "      <th>一脸</th>\n",
              "      <th>一起</th>\n",
              "      <th>一遍</th>\n",
              "      <th>一部</th>\n",
              "      <th>一颗</th>\n",
              "      <th>七月</th>\n",
              "      <th>三个</th>\n",
              "      <th>三星</th>\n",
              "      <th>三观</th>\n",
              "      <th>上映</th>\n",
              "      <th>下去</th>\n",
              "      <th>下来</th>\n",
              "      <th>不了</th>\n",
              "      <th>不会</th>\n",
              "      <th>不到</th>\n",
              "      <th>不同</th>\n",
              "      <th>不够</th>\n",
              "      <th>不好</th>\n",
              "      <th>...</th>\n",
              "      <th>那段</th>\n",
              "      <th>部分</th>\n",
              "      <th>郭敬明</th>\n",
              "      <th>配乐</th>\n",
              "      <th>配音</th>\n",
              "      <th>里面</th>\n",
              "      <th>重要</th>\n",
              "      <th>钢铁</th>\n",
              "      <th>错过</th>\n",
              "      <th>镜头</th>\n",
              "      <th>长城</th>\n",
              "      <th>长大</th>\n",
              "      <th>问题</th>\n",
              "      <th>队长</th>\n",
              "      <th>陆川</th>\n",
              "      <th>难得</th>\n",
              "      <th>难看</th>\n",
              "      <th>集体</th>\n",
              "      <th>雷神</th>\n",
              "      <th>需要</th>\n",
              "      <th>震撼</th>\n",
              "      <th>青春</th>\n",
              "      <th>非常</th>\n",
              "      <th>面前</th>\n",
              "      <th>韩国</th>\n",
              "      <th>韩寒</th>\n",
              "      <th>音乐</th>\n",
              "      <th>顺便</th>\n",
              "      <th>预期</th>\n",
              "      <th>题材</th>\n",
              "      <th>颜值</th>\n",
              "      <th>风格</th>\n",
              "      <th>饕餮</th>\n",
              "      <th>饱满</th>\n",
              "      <th>首部</th>\n",
              "      <th>马特</th>\n",
              "      <th>鲜肉</th>\n",
              "      <th>黑暗</th>\n",
              "      <th>黑豹</th>\n",
              "      <th>鼓励</th>\n",
              "    </tr>\n",
              "  </thead>\n",
              "  <tbody>\n",
              "    <tr>\n",
              "      <th>0</th>\n",
              "      <td>0</td>\n",
              "      <td>0</td>\n",
              "      <td>0</td>\n",
              "      <td>0</td>\n",
              "      <td>0</td>\n",
              "      <td>0</td>\n",
              "      <td>0</td>\n",
              "      <td>0</td>\n",
              "      <td>0</td>\n",
              "      <td>0</td>\n",
              "      <td>0</td>\n",
              "      <td>0</td>\n",
              "      <td>0</td>\n",
              "      <td>0</td>\n",
              "      <td>0</td>\n",
              "      <td>0</td>\n",
              "      <td>0</td>\n",
              "      <td>0</td>\n",
              "      <td>0</td>\n",
              "      <td>0</td>\n",
              "      <td>0</td>\n",
              "      <td>0</td>\n",
              "      <td>0</td>\n",
              "      <td>0</td>\n",
              "      <td>0</td>\n",
              "      <td>0</td>\n",
              "      <td>0</td>\n",
              "      <td>0</td>\n",
              "      <td>0</td>\n",
              "      <td>0</td>\n",
              "      <td>0</td>\n",
              "      <td>0</td>\n",
              "      <td>0</td>\n",
              "      <td>0</td>\n",
              "      <td>0</td>\n",
              "      <td>0</td>\n",
              "      <td>0</td>\n",
              "      <td>0</td>\n",
              "      <td>0</td>\n",
              "      <td>0</td>\n",
              "      <td>...</td>\n",
              "      <td>0</td>\n",
              "      <td>0</td>\n",
              "      <td>0</td>\n",
              "      <td>0</td>\n",
              "      <td>0</td>\n",
              "      <td>0</td>\n",
              "      <td>0</td>\n",
              "      <td>0</td>\n",
              "      <td>0</td>\n",
              "      <td>0</td>\n",
              "      <td>0</td>\n",
              "      <td>0</td>\n",
              "      <td>0</td>\n",
              "      <td>0</td>\n",
              "      <td>0</td>\n",
              "      <td>0</td>\n",
              "      <td>0</td>\n",
              "      <td>0</td>\n",
              "      <td>0</td>\n",
              "      <td>0</td>\n",
              "      <td>0</td>\n",
              "      <td>0</td>\n",
              "      <td>0</td>\n",
              "      <td>0</td>\n",
              "      <td>0</td>\n",
              "      <td>0</td>\n",
              "      <td>0</td>\n",
              "      <td>0</td>\n",
              "      <td>0</td>\n",
              "      <td>0</td>\n",
              "      <td>0</td>\n",
              "      <td>0</td>\n",
              "      <td>0</td>\n",
              "      <td>0</td>\n",
              "      <td>0</td>\n",
              "      <td>0</td>\n",
              "      <td>0</td>\n",
              "      <td>0</td>\n",
              "      <td>0</td>\n",
              "      <td>0</td>\n",
              "    </tr>\n",
              "    <tr>\n",
              "      <th>1</th>\n",
              "      <td>0</td>\n",
              "      <td>0</td>\n",
              "      <td>0</td>\n",
              "      <td>0</td>\n",
              "      <td>0</td>\n",
              "      <td>0</td>\n",
              "      <td>0</td>\n",
              "      <td>0</td>\n",
              "      <td>0</td>\n",
              "      <td>0</td>\n",
              "      <td>0</td>\n",
              "      <td>0</td>\n",
              "      <td>0</td>\n",
              "      <td>0</td>\n",
              "      <td>0</td>\n",
              "      <td>0</td>\n",
              "      <td>0</td>\n",
              "      <td>0</td>\n",
              "      <td>0</td>\n",
              "      <td>0</td>\n",
              "      <td>0</td>\n",
              "      <td>0</td>\n",
              "      <td>0</td>\n",
              "      <td>0</td>\n",
              "      <td>0</td>\n",
              "      <td>0</td>\n",
              "      <td>0</td>\n",
              "      <td>0</td>\n",
              "      <td>0</td>\n",
              "      <td>0</td>\n",
              "      <td>0</td>\n",
              "      <td>0</td>\n",
              "      <td>0</td>\n",
              "      <td>0</td>\n",
              "      <td>0</td>\n",
              "      <td>0</td>\n",
              "      <td>0</td>\n",
              "      <td>0</td>\n",
              "      <td>0</td>\n",
              "      <td>0</td>\n",
              "      <td>...</td>\n",
              "      <td>0</td>\n",
              "      <td>0</td>\n",
              "      <td>0</td>\n",
              "      <td>0</td>\n",
              "      <td>0</td>\n",
              "      <td>0</td>\n",
              "      <td>0</td>\n",
              "      <td>0</td>\n",
              "      <td>0</td>\n",
              "      <td>0</td>\n",
              "      <td>0</td>\n",
              "      <td>0</td>\n",
              "      <td>0</td>\n",
              "      <td>0</td>\n",
              "      <td>0</td>\n",
              "      <td>0</td>\n",
              "      <td>0</td>\n",
              "      <td>0</td>\n",
              "      <td>0</td>\n",
              "      <td>0</td>\n",
              "      <td>0</td>\n",
              "      <td>0</td>\n",
              "      <td>0</td>\n",
              "      <td>0</td>\n",
              "      <td>0</td>\n",
              "      <td>0</td>\n",
              "      <td>0</td>\n",
              "      <td>0</td>\n",
              "      <td>0</td>\n",
              "      <td>0</td>\n",
              "      <td>0</td>\n",
              "      <td>0</td>\n",
              "      <td>0</td>\n",
              "      <td>0</td>\n",
              "      <td>0</td>\n",
              "      <td>0</td>\n",
              "      <td>0</td>\n",
              "      <td>1</td>\n",
              "      <td>0</td>\n",
              "      <td>0</td>\n",
              "    </tr>\n",
              "    <tr>\n",
              "      <th>2</th>\n",
              "      <td>0</td>\n",
              "      <td>0</td>\n",
              "      <td>0</td>\n",
              "      <td>0</td>\n",
              "      <td>0</td>\n",
              "      <td>0</td>\n",
              "      <td>0</td>\n",
              "      <td>0</td>\n",
              "      <td>0</td>\n",
              "      <td>0</td>\n",
              "      <td>0</td>\n",
              "      <td>0</td>\n",
              "      <td>0</td>\n",
              "      <td>0</td>\n",
              "      <td>0</td>\n",
              "      <td>0</td>\n",
              "      <td>0</td>\n",
              "      <td>0</td>\n",
              "      <td>0</td>\n",
              "      <td>0</td>\n",
              "      <td>0</td>\n",
              "      <td>0</td>\n",
              "      <td>0</td>\n",
              "      <td>0</td>\n",
              "      <td>0</td>\n",
              "      <td>0</td>\n",
              "      <td>0</td>\n",
              "      <td>0</td>\n",
              "      <td>0</td>\n",
              "      <td>0</td>\n",
              "      <td>0</td>\n",
              "      <td>0</td>\n",
              "      <td>0</td>\n",
              "      <td>0</td>\n",
              "      <td>0</td>\n",
              "      <td>0</td>\n",
              "      <td>0</td>\n",
              "      <td>0</td>\n",
              "      <td>0</td>\n",
              "      <td>0</td>\n",
              "      <td>...</td>\n",
              "      <td>0</td>\n",
              "      <td>0</td>\n",
              "      <td>0</td>\n",
              "      <td>0</td>\n",
              "      <td>0</td>\n",
              "      <td>0</td>\n",
              "      <td>0</td>\n",
              "      <td>0</td>\n",
              "      <td>0</td>\n",
              "      <td>0</td>\n",
              "      <td>0</td>\n",
              "      <td>0</td>\n",
              "      <td>0</td>\n",
              "      <td>0</td>\n",
              "      <td>0</td>\n",
              "      <td>0</td>\n",
              "      <td>1</td>\n",
              "      <td>0</td>\n",
              "      <td>0</td>\n",
              "      <td>0</td>\n",
              "      <td>0</td>\n",
              "      <td>0</td>\n",
              "      <td>0</td>\n",
              "      <td>0</td>\n",
              "      <td>0</td>\n",
              "      <td>0</td>\n",
              "      <td>0</td>\n",
              "      <td>0</td>\n",
              "      <td>0</td>\n",
              "      <td>0</td>\n",
              "      <td>0</td>\n",
              "      <td>0</td>\n",
              "      <td>0</td>\n",
              "      <td>0</td>\n",
              "      <td>0</td>\n",
              "      <td>0</td>\n",
              "      <td>0</td>\n",
              "      <td>0</td>\n",
              "      <td>0</td>\n",
              "      <td>0</td>\n",
              "    </tr>\n",
              "    <tr>\n",
              "      <th>3</th>\n",
              "      <td>0</td>\n",
              "      <td>0</td>\n",
              "      <td>0</td>\n",
              "      <td>0</td>\n",
              "      <td>0</td>\n",
              "      <td>0</td>\n",
              "      <td>0</td>\n",
              "      <td>0</td>\n",
              "      <td>0</td>\n",
              "      <td>0</td>\n",
              "      <td>0</td>\n",
              "      <td>0</td>\n",
              "      <td>0</td>\n",
              "      <td>0</td>\n",
              "      <td>0</td>\n",
              "      <td>0</td>\n",
              "      <td>0</td>\n",
              "      <td>0</td>\n",
              "      <td>0</td>\n",
              "      <td>0</td>\n",
              "      <td>0</td>\n",
              "      <td>0</td>\n",
              "      <td>0</td>\n",
              "      <td>0</td>\n",
              "      <td>0</td>\n",
              "      <td>0</td>\n",
              "      <td>0</td>\n",
              "      <td>0</td>\n",
              "      <td>0</td>\n",
              "      <td>0</td>\n",
              "      <td>0</td>\n",
              "      <td>0</td>\n",
              "      <td>0</td>\n",
              "      <td>0</td>\n",
              "      <td>0</td>\n",
              "      <td>0</td>\n",
              "      <td>0</td>\n",
              "      <td>0</td>\n",
              "      <td>0</td>\n",
              "      <td>0</td>\n",
              "      <td>...</td>\n",
              "      <td>0</td>\n",
              "      <td>0</td>\n",
              "      <td>0</td>\n",
              "      <td>0</td>\n",
              "      <td>0</td>\n",
              "      <td>0</td>\n",
              "      <td>0</td>\n",
              "      <td>0</td>\n",
              "      <td>0</td>\n",
              "      <td>0</td>\n",
              "      <td>0</td>\n",
              "      <td>0</td>\n",
              "      <td>0</td>\n",
              "      <td>0</td>\n",
              "      <td>0</td>\n",
              "      <td>0</td>\n",
              "      <td>0</td>\n",
              "      <td>0</td>\n",
              "      <td>0</td>\n",
              "      <td>0</td>\n",
              "      <td>0</td>\n",
              "      <td>0</td>\n",
              "      <td>0</td>\n",
              "      <td>0</td>\n",
              "      <td>0</td>\n",
              "      <td>0</td>\n",
              "      <td>0</td>\n",
              "      <td>0</td>\n",
              "      <td>0</td>\n",
              "      <td>0</td>\n",
              "      <td>0</td>\n",
              "      <td>0</td>\n",
              "      <td>0</td>\n",
              "      <td>0</td>\n",
              "      <td>0</td>\n",
              "      <td>0</td>\n",
              "      <td>0</td>\n",
              "      <td>0</td>\n",
              "      <td>0</td>\n",
              "      <td>0</td>\n",
              "    </tr>\n",
              "    <tr>\n",
              "      <th>4</th>\n",
              "      <td>0</td>\n",
              "      <td>0</td>\n",
              "      <td>0</td>\n",
              "      <td>0</td>\n",
              "      <td>0</td>\n",
              "      <td>0</td>\n",
              "      <td>0</td>\n",
              "      <td>0</td>\n",
              "      <td>0</td>\n",
              "      <td>0</td>\n",
              "      <td>0</td>\n",
              "      <td>0</td>\n",
              "      <td>0</td>\n",
              "      <td>0</td>\n",
              "      <td>0</td>\n",
              "      <td>0</td>\n",
              "      <td>0</td>\n",
              "      <td>0</td>\n",
              "      <td>0</td>\n",
              "      <td>0</td>\n",
              "      <td>0</td>\n",
              "      <td>0</td>\n",
              "      <td>0</td>\n",
              "      <td>0</td>\n",
              "      <td>0</td>\n",
              "      <td>0</td>\n",
              "      <td>0</td>\n",
              "      <td>0</td>\n",
              "      <td>0</td>\n",
              "      <td>0</td>\n",
              "      <td>0</td>\n",
              "      <td>0</td>\n",
              "      <td>0</td>\n",
              "      <td>0</td>\n",
              "      <td>0</td>\n",
              "      <td>0</td>\n",
              "      <td>0</td>\n",
              "      <td>0</td>\n",
              "      <td>0</td>\n",
              "      <td>0</td>\n",
              "      <td>...</td>\n",
              "      <td>0</td>\n",
              "      <td>0</td>\n",
              "      <td>0</td>\n",
              "      <td>0</td>\n",
              "      <td>0</td>\n",
              "      <td>0</td>\n",
              "      <td>0</td>\n",
              "      <td>0</td>\n",
              "      <td>0</td>\n",
              "      <td>0</td>\n",
              "      <td>0</td>\n",
              "      <td>0</td>\n",
              "      <td>0</td>\n",
              "      <td>0</td>\n",
              "      <td>0</td>\n",
              "      <td>0</td>\n",
              "      <td>0</td>\n",
              "      <td>0</td>\n",
              "      <td>0</td>\n",
              "      <td>0</td>\n",
              "      <td>0</td>\n",
              "      <td>0</td>\n",
              "      <td>0</td>\n",
              "      <td>0</td>\n",
              "      <td>0</td>\n",
              "      <td>0</td>\n",
              "      <td>0</td>\n",
              "      <td>0</td>\n",
              "      <td>0</td>\n",
              "      <td>0</td>\n",
              "      <td>0</td>\n",
              "      <td>0</td>\n",
              "      <td>0</td>\n",
              "      <td>0</td>\n",
              "      <td>0</td>\n",
              "      <td>0</td>\n",
              "      <td>0</td>\n",
              "      <td>0</td>\n",
              "      <td>0</td>\n",
              "      <td>0</td>\n",
              "    </tr>\n",
              "  </tbody>\n",
              "</table>\n",
              "<p>5 rows × 712 columns</p>\n",
              "</div>"
            ],
            "text/plain": [
              "   boss  bug  imax  mv  ps  一下  一分  一切都是  ...  饕餮  饱满  首部  马特  鲜肉  黑暗  黑豹  鼓励\n",
              "0     0    0     0   0   0   0   0     0  ...   0   0   0   0   0   0   0   0\n",
              "1     0    0     0   0   0   0   0     0  ...   0   0   0   0   0   1   0   0\n",
              "2     0    0     0   0   0   0   0     0  ...   0   0   0   0   0   0   0   0\n",
              "3     0    0     0   0   0   0   0     0  ...   0   0   0   0   0   0   0   0\n",
              "4     0    0     0   0   0   0   0     0  ...   0   0   0   0   0   0   0   0\n",
              "\n",
              "[5 rows x 712 columns]"
            ]
          },
          "metadata": {
            "tags": []
          },
          "execution_count": 19
        }
      ]
    },
    {
      "cell_type": "markdown",
      "metadata": {
        "colab_type": "text",
        "id": "BvfawPqVqoqe"
      },
      "source": [
        "### Build Model"
      ]
    },
    {
      "cell_type": "code",
      "metadata": {
        "colab_type": "code",
        "id": "55EQ-k3sqoqf",
        "colab": {}
      },
      "source": [
        "nb = MultinomialNB()"
      ],
      "execution_count": 0,
      "outputs": []
    },
    {
      "cell_type": "markdown",
      "metadata": {
        "colab_type": "text",
        "id": "HBCZsHLPqoqm"
      },
      "source": [
        "### Pipeline"
      ]
    },
    {
      "cell_type": "code",
      "metadata": {
        "colab_type": "code",
        "id": "VUXS00cnqoqy",
        "colab": {}
      },
      "source": [
        "pipe = make_pipeline(vect, nb)"
      ],
      "execution_count": 0,
      "outputs": []
    },
    {
      "cell_type": "code",
      "metadata": {
        "colab_type": "code",
        "id": "KwUHAN4Bqoq8",
        "outputId": "5458e776-5c71-4e5c-8ba0-9176f17d0694",
        "colab": {
          "base_uri": "https://localhost:8080/",
          "height": 238
        }
      },
      "source": [
        "pipe.steps"
      ],
      "execution_count": 0,
      "outputs": [
        {
          "output_type": "execute_result",
          "data": {
            "text/plain": [
              "[('countvectorizer',\n",
              "  CountVectorizer(analyzer='word', binary=False, decode_error='strict',\n",
              "                  dtype=<class 'numpy.int64'>, encoding='utf-8', input='content',\n",
              "                  lowercase=True, max_df=0.8, max_features=None, min_df=3,\n",
              "                  ngram_range=(1, 1), preprocessor=None,\n",
              "                  stop_words=frozenset({'\"', '#', '&', \"'\", '(', ')', '*', '+',\n",
              "                                        ',', '-', '-- ', '. ', '...', '......',\n",
              "                                        '...................', './', '.一', '.数',\n",
              "                                        '.日 ', '/', '//', ':', '://', '::', ';',\n",
              "                                        '<', '=', '>', '?', '? ', ...}),\n",
              "                  strip_accents=None, token_pattern='(?u)\\\\b[^\\\\d\\\\W]\\\\w+\\\\b',\n",
              "                  tokenizer=None, vocabulary=None)),\n",
              " ('multinomialnb', MultinomialNB(alpha=1.0, class_prior=None, fit_prior=True))]"
            ]
          },
          "metadata": {
            "tags": []
          },
          "execution_count": 22
        }
      ]
    },
    {
      "cell_type": "markdown",
      "metadata": {
        "colab_type": "text",
        "id": "Txf9VjtGqorC"
      },
      "source": [
        "### Training "
      ]
    },
    {
      "cell_type": "code",
      "metadata": {
        "colab_type": "code",
        "id": "TC0YtIAxqorE",
        "outputId": "c0e973ba-f1fc-4490-b18a-51b79bdcfe5c",
        "colab": {
          "base_uri": "https://localhost:8080/",
          "height": 408
        }
      },
      "source": [
        "pipe.fit(X_train, y_train)"
      ],
      "execution_count": 0,
      "outputs": [
        {
          "output_type": "execute_result",
          "data": {
            "text/plain": [
              "Pipeline(memory=None,\n",
              "         steps=[('countvectorizer',\n",
              "                 CountVectorizer(analyzer='word', binary=False,\n",
              "                                 decode_error='strict',\n",
              "                                 dtype=<class 'numpy.int64'>, encoding='utf-8',\n",
              "                                 input='content', lowercase=True, max_df=0.8,\n",
              "                                 max_features=None, min_df=3,\n",
              "                                 ngram_range=(1, 1), preprocessor=None,\n",
              "                                 stop_words=frozenset({'\"', '#', '&', \"'\", '(',\n",
              "                                                       ')', '*', '+', ',', '-',\n",
              "                                                       '-- ', '. ', '...',\n",
              "                                                       '......',\n",
              "                                                       '...................',\n",
              "                                                       './', '.一', '.数', '.日 ',\n",
              "                                                       '/', '//', ':', '://',\n",
              "                                                       '::', ';', '<', '=', '>',\n",
              "                                                       '?', '? ', ...}),\n",
              "                                 strip_accents=None,\n",
              "                                 token_pattern='(?u)\\\\b[^\\\\d\\\\W]\\\\w+\\\\b',\n",
              "                                 tokenizer=None, vocabulary=None)),\n",
              "                ('multinomialnb',\n",
              "                 MultinomialNB(alpha=1.0, class_prior=None, fit_prior=True))],\n",
              "         verbose=False)"
            ]
          },
          "metadata": {
            "tags": []
          },
          "execution_count": 23
        }
      ]
    },
    {
      "cell_type": "markdown",
      "metadata": {
        "colab_type": "text",
        "id": "kHT_EuhqqorJ"
      },
      "source": [
        "### Evaluate"
      ]
    },
    {
      "cell_type": "code",
      "metadata": {
        "colab_type": "code",
        "id": "3jvd9rWJqorK",
        "colab": {}
      },
      "source": [
        "y_pred = pipe.predict(X_test)"
      ],
      "execution_count": 0,
      "outputs": []
    },
    {
      "cell_type": "code",
      "metadata": {
        "colab_type": "code",
        "id": "98Dux-u8qorQ",
        "outputId": "2b4f9dbe-11a4-4515-8196-46a59b54cdb4",
        "colab": {
          "base_uri": "https://localhost:8080/",
          "height": 34
        }
      },
      "source": [
        "metrics.accuracy_score(y_test, y_pred)"
      ],
      "execution_count": 0,
      "outputs": [
        {
          "output_type": "execute_result",
          "data": {
            "text/plain": [
              "0.8744171270046838"
            ]
          },
          "metadata": {
            "tags": []
          },
          "execution_count": 25
        }
      ]
    },
    {
      "cell_type": "code",
      "metadata": {
        "id": "I8AY3UFu7zmy",
        "colab_type": "code",
        "outputId": "19f21d39-0009-455b-8460-ab008ca4eb0f",
        "colab": {
          "base_uri": "https://localhost:8080/",
          "height": 346
        }
      },
      "source": [
        "cm = metrics.confusion_matrix(y_test, y_pred.round())\n",
        "print ('Confusion Matrix \\n', cm)\n",
        "\n",
        "sb.heatmap(cm, annot=True,  fmt='.2f', xticklabels = [\"YES\", \"NO\"] , yticklabels = [\"Positive\", \"Negative\"] )\n",
        "plt.ylabel('Actural label', fontsize=18)\n",
        "plt.xlabel('Predicted label')\n",
        "plt.title('Movie Reviews Confusion Matrix')\n",
        "plt.show()"
      ],
      "execution_count": 0,
      "outputs": [
        {
          "output_type": "stream",
          "text": [
            "Confusion Matrix \n",
            " [[174385  83594]\n",
            " [ 61084 832989]]\n"
          ],
          "name": "stdout"
        },
        {
          "output_type": "display_data",
          "data": {
            "image/png": "[encoded data removed]",
            "text/plain": [
              "<Figure size 432x288 with 2 Axes>"
            ]
          },
          "metadata": {
            "tags": []
          }
        }
      ]
    },
    {
      "cell_type": "markdown",
      "metadata": {
        "id": "yjfHRWrQ7zm1",
        "colab_type": "text"
      },
      "source": [
        "### Solution \n",
        "This graph shows the module achieves an accuracy of about 87%. "
      ]
    },
    {
      "cell_type": "markdown",
      "metadata": {
        "id": "Mvuqrc8i7zm1",
        "colab_type": "text"
      },
      "source": [
        "# Build a Neural Network\n",
        "### Deep Convolutional Neural Networks for Sentiment Analysis of Short Texts"
      ]
    },
    {
      "cell_type": "code",
      "metadata": {
        "id": "StcgiriO7zm2",
        "colab_type": "code",
        "colab": {}
      },
      "source": [
        "import tensorflow as tf\n",
        "from tensorflow import keras\n",
        "import pydot\n",
        "\n",
        "from tensorflow.keras import layers"
      ],
      "execution_count": 0,
      "outputs": []
    },
    {
      "cell_type": "markdown",
      "metadata": {
        "id": "vU0DWmS27zm4",
        "colab_type": "text"
      },
      "source": [
        "###  Transforming Text into Numbers\n",
        "The neural network cannot handle strings, so convert strings to Numbers. <br>\n",
        "\n",
        "* To create a word-to-number mapping, attach a numeric subscript to a word and use numeric tags to represent words on the web <br>\n",
        "For example, 'apple' is a number in the network, as 500.\n",
        "* Number tag starts with 1, 0 for special purpose\n",
        "* Converted each review in the training data from a string to a number sequence.<br>\n",
        "For example，\"I love this moive\" would be tranformed to [5 36 45 12354]\n"
      ]
    },
    {
      "cell_type": "code",
      "metadata": {
        "colab_type": "code",
        "id": "LVIOVdjAqorh",
        "colab": {}
      },
      "source": [
        "# Create a set named vocab that contains every word in the vocabulary.\n",
        "def get_vocab_to_int(words):\n",
        "    \n",
        "    # Count the number of each words\n",
        "    counts = Counter(words)\n",
        "\n",
        "    # Sort by number ,from the most to the least\n",
        "    vocab = sorted(counts, key=counts.get, reverse=True)\n",
        "\n",
        "    # Creat the mapping.\n",
        "    vocab_to_int = { word : i for i, word in enumerate(vocab, 1)}\n",
        "\n",
        "    return vocab_to_int"
      ],
      "execution_count": 0,
      "outputs": []
    },
    {
      "cell_type": "code",
      "metadata": {
        "colab_type": "code",
        "id": "P0JlCerhqorm",
        "colab": {}
      },
      "source": [
        "def get_reviews_ints(vocab_to_int, reviews):\n",
        "    # Transform the words in review to numbers，using vocab_to_int \n",
        "    # for example，\"I love this moive\" would be tranformed to [5 36 45 12354]\n",
        "    reviews_ints = []\n",
        "    for each in reviews:\n",
        "        reviews_ints.append( [ vocab_to_int[word] for word in each.split()] )\n",
        "\n",
        "    return reviews_ints\n"
      ],
      "execution_count": 0,
      "outputs": []
    },
    {
      "cell_type": "code",
      "metadata": {
        "colab_type": "code",
        "id": "T41pfHu7qors",
        "outputId": "dccee7f9-5306-4f83-b1cf-23ea1f0e64bb",
        "colab": {
          "base_uri": "https://localhost:8080/",
          "height": 34
        }
      },
      "source": [
        "all_text = ' '.join(data.reviews)\n",
        "# Get all words\n",
        "words = all_text.split()\n",
        "\n",
        "words[ : 10]"
      ],
      "execution_count": 0,
      "outputs": [
        {
          "output_type": "execute_result",
          "data": {
            "text/plain": [
              "['非常', '失望', '剧本', '完全', '敷衍了事', '主线', '剧情', '没', '突破', '大家']"
            ]
          },
          "metadata": {
            "tags": []
          },
          "execution_count": 30
        }
      ]
    },
    {
      "cell_type": "code",
      "metadata": {
        "colab_type": "code",
        "id": "ExVIC90Vqor0",
        "colab": {}
      },
      "source": [
        "vocab_to_int = get_vocab_to_int(words)"
      ],
      "execution_count": 0,
      "outputs": []
    },
    {
      "cell_type": "code",
      "metadata": {
        "colab_type": "code",
        "id": "toSl5Ebxqor5",
        "outputId": "159ab106-7100-4aaa-afa1-5a7e0a810dca",
        "colab": {
          "base_uri": "https://localhost:8080/",
          "height": 119
        }
      },
      "source": [
        "data['review_ints'] = get_reviews_ints(vocab_to_int, data.reviews)"
      ],
      "execution_count": 0,
      "outputs": [
        {
          "output_type": "stream",
          "text": [
            "/usr/local/lib/python3.6/dist-packages/ipykernel_launcher.py:1: SettingWithCopyWarning: \n",
            "A value is trying to be set on a copy of a slice from a DataFrame.\n",
            "Try using .loc[row_indexer,col_indexer] = value instead\n",
            "\n",
            "See the caveats in the documentation: http://pandas.pydata.org/pandas-docs/stable/indexing.html#indexing-view-versus-copy\n",
            "  \"\"\"Entry point for launching an IPython kernel.\n"
          ],
          "name": "stderr"
        }
      ]
    },
    {
      "cell_type": "code",
      "metadata": {
        "id": "MnpsI8oe7znA",
        "colab_type": "code",
        "outputId": "8b9af9da-beb6-4e64-ba1f-7295e8abbf78",
        "colab": {
          "base_uri": "https://localhost:8080/",
          "height": 119
        }
      },
      "source": [
        "data['comment_len'] = data['review_ints'].apply(lambda x: len(x))"
      ],
      "execution_count": 0,
      "outputs": [
        {
          "output_type": "stream",
          "text": [
            "/usr/local/lib/python3.6/dist-packages/ipykernel_launcher.py:1: SettingWithCopyWarning: \n",
            "A value is trying to be set on a copy of a slice from a DataFrame.\n",
            "Try using .loc[row_indexer,col_indexer] = value instead\n",
            "\n",
            "See the caveats in the documentation: http://pandas.pydata.org/pandas-docs/stable/indexing.html#indexing-view-versus-copy\n",
            "  \"\"\"Entry point for launching an IPython kernel.\n"
          ],
          "name": "stderr"
        }
      ]
    },
    {
      "cell_type": "code",
      "metadata": {
        "colab_type": "code",
        "id": "fdRP28AIqor-",
        "outputId": "3a9daa25-c060-4246-c527-2c77e50bd687",
        "colab": {
          "base_uri": "https://localhost:8080/",
          "height": 111
        }
      },
      "source": [
        "data = data[['ID','Star', 'sentiment', 'reviews', 'review_ints', 'comment_len']]\n",
        "\n",
        "data.head(2)"
      ],
      "execution_count": 0,
      "outputs": [
        {
          "output_type": "execute_result",
          "data": {
            "text/html": [
              "<div>\n",
              "<style scoped>\n",
              "    .dataframe tbody tr th:only-of-type {\n",
              "        vertical-align: middle;\n",
              "    }\n",
              "\n",
              "    .dataframe tbody tr th {\n",
              "        vertical-align: top;\n",
              "    }\n",
              "\n",
              "    .dataframe thead th {\n",
              "        text-align: right;\n",
              "    }\n",
              "</style>\n",
              "<table border=\"1\" class=\"dataframe\">\n",
              "  <thead>\n",
              "    <tr style=\"text-align: right;\">\n",
              "      <th></th>\n",
              "      <th>ID</th>\n",
              "      <th>Star</th>\n",
              "      <th>sentiment</th>\n",
              "      <th>reviews</th>\n",
              "      <th>review_ints</th>\n",
              "      <th>comment_len</th>\n",
              "    </tr>\n",
              "  </thead>\n",
              "  <tbody>\n",
              "    <tr>\n",
              "      <th>1</th>\n",
              "      <td>1</td>\n",
              "      <td>2</td>\n",
              "      <td>0</td>\n",
              "      <td>非常 失望 剧本 完全 敷衍了事 主线 剧情 没 突破 大家 理解 所有 人物 都 缺乏 动...</td>\n",
              "      <td>[60, 143, 299, 87, 20717, 987, 9, 20, 963, 140...</td>\n",
              "      <td>54</td>\n",
              "    </tr>\n",
              "    <tr>\n",
              "      <th>2</th>\n",
              "      <td>2</td>\n",
              "      <td>2</td>\n",
              "      <td>0</td>\n",
              "      <td>2015 年度 最 失望 作品 以为 面面俱到 实则 画蛇添足 以为 主题深刻 实则 老调重...</td>\n",
              "      <td>[1726, 930, 38, 143, 136, 185, 11378, 4896, 10...</td>\n",
              "      <td>43</td>\n",
              "    </tr>\n",
              "  </tbody>\n",
              "</table>\n",
              "</div>"
            ],
            "text/plain": [
              "   ID  Star  ...                                        review_ints comment_len\n",
              "1   1     2  ...  [60, 143, 299, 87, 20717, 987, 9, 20, 963, 140...          54\n",
              "2   2     2  ...  [1726, 930, 38, 143, 136, 185, 11378, 4896, 10...          43\n",
              "\n",
              "[2 rows x 6 columns]"
            ]
          },
          "metadata": {
            "tags": []
          },
          "execution_count": 34
        }
      ]
    },
    {
      "cell_type": "code",
      "metadata": {
        "colab_type": "code",
        "id": "DMOZyPI1qosC",
        "outputId": "54ab483b-3f99-425b-d051-519c19f29de2",
        "colab": {
          "base_uri": "https://localhost:8080/",
          "height": 297
        }
      },
      "source": [
        "data.describe()"
      ],
      "execution_count": 0,
      "outputs": [
        {
          "output_type": "execute_result",
          "data": {
            "text/html": [
              "<div>\n",
              "<style scoped>\n",
              "    .dataframe tbody tr th:only-of-type {\n",
              "        vertical-align: middle;\n",
              "    }\n",
              "\n",
              "    .dataframe tbody tr th {\n",
              "        vertical-align: top;\n",
              "    }\n",
              "\n",
              "    .dataframe thead th {\n",
              "        text-align: right;\n",
              "    }\n",
              "</style>\n",
              "<table border=\"1\" class=\"dataframe\">\n",
              "  <thead>\n",
              "    <tr style=\"text-align: right;\">\n",
              "      <th></th>\n",
              "      <th>ID</th>\n",
              "      <th>Star</th>\n",
              "      <th>sentiment</th>\n",
              "      <th>comment_len</th>\n",
              "    </tr>\n",
              "  </thead>\n",
              "  <tbody>\n",
              "    <tr>\n",
              "      <th>count</th>\n",
              "      <td>1.645788e+06</td>\n",
              "      <td>1.645788e+06</td>\n",
              "      <td>1.645788e+06</td>\n",
              "      <td>1.645788e+06</td>\n",
              "    </tr>\n",
              "    <tr>\n",
              "      <th>mean</th>\n",
              "      <td>1.087826e+06</td>\n",
              "      <td>3.824195e+00</td>\n",
              "      <td>7.762270e-01</td>\n",
              "      <td>1.367115e+01</td>\n",
              "    </tr>\n",
              "    <tr>\n",
              "      <th>std</th>\n",
              "      <td>6.172564e+05</td>\n",
              "      <td>1.351937e+00</td>\n",
              "      <td>4.167719e-01</td>\n",
              "      <td>1.321493e+01</td>\n",
              "    </tr>\n",
              "    <tr>\n",
              "      <th>min</th>\n",
              "      <td>1.000000e+00</td>\n",
              "      <td>1.000000e+00</td>\n",
              "      <td>0.000000e+00</td>\n",
              "      <td>1.000000e+00</td>\n",
              "    </tr>\n",
              "    <tr>\n",
              "      <th>25%</th>\n",
              "      <td>5.459178e+05</td>\n",
              "      <td>4.000000e+00</td>\n",
              "      <td>1.000000e+00</td>\n",
              "      <td>4.000000e+00</td>\n",
              "    </tr>\n",
              "    <tr>\n",
              "      <th>50%</th>\n",
              "      <td>1.083432e+06</td>\n",
              "      <td>4.000000e+00</td>\n",
              "      <td>1.000000e+00</td>\n",
              "      <td>9.000000e+00</td>\n",
              "    </tr>\n",
              "    <tr>\n",
              "      <th>75%</th>\n",
              "      <td>1.637140e+06</td>\n",
              "      <td>5.000000e+00</td>\n",
              "      <td>1.000000e+00</td>\n",
              "      <td>1.900000e+01</td>\n",
              "    </tr>\n",
              "    <tr>\n",
              "      <th>max</th>\n",
              "      <td>2.125055e+06</td>\n",
              "      <td>5.000000e+00</td>\n",
              "      <td>1.000000e+00</td>\n",
              "      <td>1.400000e+02</td>\n",
              "    </tr>\n",
              "  </tbody>\n",
              "</table>\n",
              "</div>"
            ],
            "text/plain": [
              "                 ID          Star     sentiment   comment_len\n",
              "count  1.645788e+06  1.645788e+06  1.645788e+06  1.645788e+06\n",
              "mean   1.087826e+06  3.824195e+00  7.762270e-01  1.367115e+01\n",
              "std    6.172564e+05  1.351937e+00  4.167719e-01  1.321493e+01\n",
              "min    1.000000e+00  1.000000e+00  0.000000e+00  1.000000e+00\n",
              "25%    5.459178e+05  4.000000e+00  1.000000e+00  4.000000e+00\n",
              "50%    1.083432e+06  4.000000e+00  1.000000e+00  9.000000e+00\n",
              "75%    1.637140e+06  5.000000e+00  1.000000e+00  1.900000e+01\n",
              "max    2.125055e+06  5.000000e+00  1.000000e+00  1.400000e+02"
            ]
          },
          "metadata": {
            "tags": []
          },
          "execution_count": 35
        }
      ]
    },
    {
      "cell_type": "markdown",
      "metadata": {
        "colab_type": "text",
        "id": "byiFiOaUqosO"
      },
      "source": [
        "###  Create a training , test, and validation set"
      ]
    },
    {
      "cell_type": "markdown",
      "metadata": {
        "colab_type": "text",
        "id": "KiJVy8l0qosR"
      },
      "source": [
        "#### Splited the data \n",
        "Because the original dataset is too big, and think about my computer's performace, choose smaller set for test.\n",
        "\n",
        "Training 60%, validation 10%, test 30% <br>\n",
        "\n",
        "Data  X : review_ints <br>\n",
        "Label y : sentiment\n"
      ]
    },
    {
      "cell_type": "code",
      "metadata": {
        "colab_type": "code",
        "id": "iEH77b31qosT",
        "colab": {}
      },
      "source": [
        "X = data.review_ints\n",
        "y = data.sentiment"
      ],
      "execution_count": 0,
      "outputs": []
    },
    {
      "cell_type": "code",
      "metadata": {
        "colab_type": "code",
        "id": "Sgt40zYQqosc",
        "colab": {}
      },
      "source": [
        "train_data, test_data, train_labels, test_labels = train_test_split(X, y, test_size=0.4, random_state=42)\n",
        "\n",
        "val_data, test_data, val_labels, test_labels,= train_test_split(test_data, test_labels, test_size=0.75, random_state=42)"
      ],
      "execution_count": 0,
      "outputs": []
    },
    {
      "cell_type": "code",
      "metadata": {
        "colab_type": "code",
        "id": "iBGsbnV_qosl",
        "outputId": "0a7152c5-ec50-4488-e6e0-fc88c4f38525",
        "colab": {
          "base_uri": "https://localhost:8080/",
          "height": 68
        }
      },
      "source": [
        "print(\"Train set: \\t\\t{}\".format(train_data.shape),\n",
        "      \"\\nValidation set: \\t{}\".format(val_data.shape),\n",
        "      \"\\nTest set: \\t\\t{}\".format(test_data.shape))\n"
      ],
      "execution_count": 0,
      "outputs": [
        {
          "output_type": "stream",
          "text": [
            "Train set: \t\t(987472,) \n",
            "Validation set: \t(164579,) \n",
            "Test set: \t\t(493737,)\n"
          ],
          "name": "stdout"
        }
      ]
    },
    {
      "cell_type": "markdown",
      "metadata": {
        "colab_type": "text",
        "id": "rb35m2k8qosq"
      },
      "source": [
        "### Pad the arrays to the same length\n",
        "#### Set the text len  \n",
        "The average len is 38, the mas len is 140\n",
        "\n",
        "The reviews—the arrays of integers—must be converted to tensors before fed into the neural network.<br>\n",
        "Pad the arrays so they all have the same length, then create an integer tensor of shape **max_length * num_reviews**. We can use an embedding layer capable of handling this shape as the first layer in our network.<br>\n",
        "Since the movie reviews must be the same length, we will use the ** pad_sequences ** function to standardize the lengths:<br>"
      ]
    },
    {
      "cell_type": "code",
      "metadata": {
        "colab_type": "code",
        "id": "DkOb2ZSGqosr",
        "colab": {}
      },
      "source": [
        "maxword = data.comment_len.max()\n",
        "\n",
        "vocab_size =  len(vocab_to_int) + 1 "
      ],
      "execution_count": 0,
      "outputs": []
    },
    {
      "cell_type": "code",
      "metadata": {
        "colab_type": "code",
        "id": "c-kiJfRrqosy",
        "colab": {}
      },
      "source": [
        "train_data = keras.preprocessing.sequence.pad_sequences(train_data,\n",
        "                                                        value= 0,\n",
        "                                                        padding='post',\n",
        "                                                        maxlen=maxword)\n",
        "\n",
        "test_data = keras.preprocessing.sequence.pad_sequences(test_data,\n",
        "                                                       value= 0,\n",
        "                                                       padding='post',\n",
        "                                                       maxlen=maxword)\n",
        "\n",
        "val_data = keras.preprocessing.sequence.pad_sequences(val_data,\n",
        "                                                       value= 0,\n",
        "                                                       padding='post',\n",
        "                                                       maxlen=maxword)"
      ],
      "execution_count": 0,
      "outputs": []
    },
    {
      "cell_type": "code",
      "metadata": {
        "colab_type": "code",
        "id": "SiXdyaWDA_kF",
        "outputId": "51068bb5-c379-4a36-a70e-1554628909aa",
        "colab": {
          "base_uri": "https://localhost:8080/",
          "height": 102
        }
      },
      "source": [
        "print(\"Train set: \\t\\t{}\".format(train_data.shape),\n",
        "      \"\\nValidation set: \\t{}\".format(val_data.shape),\n",
        "      \"\\nTest set: \\t\\t{}\".format(test_data.shape))\n",
        "\n",
        "\n",
        "print ('Total words :', vocab_size)\n",
        "\n",
        "print ('Max length of review :', maxword)\n"
      ],
      "execution_count": 0,
      "outputs": [
        {
          "output_type": "stream",
          "text": [
            "Train set: \t\t(987472, 140) \n",
            "Validation set: \t(164579, 140) \n",
            "Test set: \t\t(493737, 140)\n",
            "Total words : 286916\n",
            "Max length of review : 140\n"
          ],
          "name": "stdout"
        }
      ]
    },
    {
      "cell_type": "code",
      "metadata": {
        "id": "eZDR4Hi37znZ",
        "colab_type": "code",
        "outputId": "1ddcda7f-38fd-43ca-dbe3-1c57269a7ca8",
        "colab": {
          "base_uri": "https://localhost:8080/",
          "height": 238
        }
      },
      "source": [
        "train_data[0]"
      ],
      "execution_count": 0,
      "outputs": [
        {
          "output_type": "execute_result",
          "data": {
            "text/plain": [
              "array([   2,  596,    3, 2566,  389,    3, 2566,    9,    9,    0,    0,\n",
              "          0,    0,    0,    0,    0,    0,    0,    0,    0,    0,    0,\n",
              "          0,    0,    0,    0,    0,    0,    0,    0,    0,    0,    0,\n",
              "          0,    0,    0,    0,    0,    0,    0,    0,    0,    0,    0,\n",
              "          0,    0,    0,    0,    0,    0,    0,    0,    0,    0,    0,\n",
              "          0,    0,    0,    0,    0,    0,    0,    0,    0,    0,    0,\n",
              "          0,    0,    0,    0,    0,    0,    0,    0,    0,    0,    0,\n",
              "          0,    0,    0,    0,    0,    0,    0,    0,    0,    0,    0,\n",
              "          0,    0,    0,    0,    0,    0,    0,    0,    0,    0,    0,\n",
              "          0,    0,    0,    0,    0,    0,    0,    0,    0,    0,    0,\n",
              "          0,    0,    0,    0,    0,    0,    0,    0,    0,    0,    0,\n",
              "          0,    0,    0,    0,    0,    0,    0,    0,    0,    0,    0,\n",
              "          0,    0,    0,    0,    0,    0,    0,    0], dtype=int32)"
            ]
          },
          "metadata": {
            "tags": []
          },
          "execution_count": 43
        }
      ]
    },
    {
      "cell_type": "markdown",
      "metadata": {
        "colab_type": "text",
        "id": "yFoTgsvzqos2"
      },
      "source": [
        "### Build Model\n",
        "* Input layer, which defines the length of the input sequence.\n",
        "* Embedding layer. Define the matrix as vocab_size×64, every trainning batch is maxword×64 <br>\n",
        "* Convolution layer, with 32 filters, the kernel size defines the number of words to be considered when the convolution is passed in the input text document, thus providing grouping parameters.<br>\n",
        "* MaxPooling1D layer merge the output of the convolution layer.\n",
        "* Flatten, transforms the format of the matrix  maxword×64 from a 2d-array , to a 1d-array of maxword×64 vector <br>\n",
        "* This fixed-length output vector is piped through a fully-connected (Dense) layer with (2000, 500, 200, 50, 16) hidden units.  <br>\n",
        "* The last layer is densely connected with a single output node. Using the sigmoid activation function, this value is a float between 0 and 1, representing a probability, or confidence level..<br>\n",
        "\n",
        "* Loss function and optimizer<br>\n",
        "\n"
      ]
    },
    {
      "cell_type": "code",
      "metadata": {
        "colab_type": "code",
        "id": "IKQ9YjxgqotC",
        "colab": {}
      },
      "source": [
        "# define the model\n",
        "def define_model(length, vocab_size):\n",
        "  # channel 1\n",
        "  inputs1 = layers.Input(shape=(length,))\n",
        "  embedding1 = layers.Embedding(vocab_size, 64)(inputs1)\n",
        "  conv1 = layers.Conv1D(filters=32, kernel_size=4, activation='relu')(embedding1)\n",
        "  drop1 = layers.Dropout(0.5)(conv1)\n",
        "  pool1 = layers.MaxPooling1D(pool_size=2)(drop1)\n",
        "  flat1 = layers.Flatten()(pool1)\n",
        "\n",
        "  # channel 2\n",
        "  inputs2 = layers.Input(shape=(length,))\n",
        "  embedding2 = layers.Embedding(vocab_size, 64)(inputs2)\n",
        "  conv2 = layers.Conv1D(filters=32, kernel_size=8, activation='relu')(embedding2)\n",
        "  drop2 = layers.Dropout(0.5)(conv2)\n",
        "  pool2 = layers.MaxPooling1D(pool_size=2)(drop2)\n",
        "  flat2 = layers.Flatten()(pool2)\n",
        "\n",
        "  # merge\n",
        "  merged = layers.concatenate([flat1, flat2])\n",
        "  # interpretation\n",
        "  dense1 = layers.Dense(10, activation='relu')(merged)\n",
        "  outputs = layers.Dense(1, activation='sigmoid')(dense1)\n",
        "\n",
        "  model = tf.keras.Model(inputs=[inputs1, inputs2], outputs=outputs)\n",
        "\n",
        "  # compile\n",
        "  model.compile(optimizer=tf.train.AdamOptimizer(),\n",
        "              loss='binary_crossentropy',\n",
        "              metrics=['accuracy'])\n",
        "  \n",
        "  # summarize\n",
        "  print(model.summary())\n",
        "  keras.utils.plot_model(model, 'multi_CNN_movie_reviews.png', show_shapes=True)\n",
        "  \n",
        "  return model"
      ],
      "execution_count": 0,
      "outputs": []
    },
    {
      "cell_type": "code",
      "metadata": {
        "colab_type": "code",
        "id": "KoULvGNM5zbX",
        "outputId": "662a2426-e627-4f86-ea95-6f32fcf4e68b",
        "colab": {
          "base_uri": "https://localhost:8080/",
          "height": 887
        }
      },
      "source": [
        "model = define_model(maxword, vocab_size)"
      ],
      "execution_count": 0,
      "outputs": [
        {
          "output_type": "stream",
          "text": [
            "WARNING: Logging before flag parsing goes to stderr.\n",
            "W0820 17:57:29.437665 140144834221952 deprecation.py:506] From /usr/local/lib/python3.6/dist-packages/tensorflow/python/keras/initializers.py:119: calling RandomUniform.__init__ (from tensorflow.python.ops.init_ops) with dtype is deprecated and will be removed in a future version.\n",
            "Instructions for updating:\n",
            "Call initializer instance with the dtype argument instead of passing it to the constructor\n",
            "W0820 17:57:29.457077 140144834221952 deprecation.py:506] From /usr/local/lib/python3.6/dist-packages/tensorflow/python/ops/init_ops.py:1251: calling VarianceScaling.__init__ (from tensorflow.python.ops.init_ops) with dtype is deprecated and will be removed in a future version.\n",
            "Instructions for updating:\n",
            "Call initializer instance with the dtype argument instead of passing it to the constructor\n",
            "W0820 17:57:29.660092 140144834221952 deprecation.py:323] From /usr/local/lib/python3.6/dist-packages/tensorflow/python/ops/nn_impl.py:180: add_dispatch_support.<locals>.wrapper (from tensorflow.python.ops.array_ops) is deprecated and will be removed in a future version.\n",
            "Instructions for updating:\n",
            "Use tf.where in 2.0, which has the same broadcast rule as np.where\n"
          ],
          "name": "stderr"
        },
        {
          "output_type": "stream",
          "text": [
            "Model: \"model\"\n",
            "__________________________________________________________________________________________________\n",
            "Layer (type)                    Output Shape         Param #     Connected to                     \n",
            "==================================================================================================\n",
            "input_1 (InputLayer)            [(None, 140)]        0                                            \n",
            "__________________________________________________________________________________________________\n",
            "input_2 (InputLayer)            [(None, 140)]        0                                            \n",
            "__________________________________________________________________________________________________\n",
            "embedding (Embedding)           (None, 140, 64)      18362624    input_1[0][0]                    \n",
            "__________________________________________________________________________________________________\n",
            "embedding_1 (Embedding)         (None, 140, 64)      18362624    input_2[0][0]                    \n",
            "__________________________________________________________________________________________________\n",
            "conv1d (Conv1D)                 (None, 137, 32)      8224        embedding[0][0]                  \n",
            "__________________________________________________________________________________________________\n",
            "conv1d_1 (Conv1D)               (None, 133, 32)      16416       embedding_1[0][0]                \n",
            "__________________________________________________________________________________________________\n",
            "dropout (Dropout)               (None, 137, 32)      0           conv1d[0][0]                     \n",
            "__________________________________________________________________________________________________\n",
            "dropout_1 (Dropout)             (None, 133, 32)      0           conv1d_1[0][0]                   \n",
            "__________________________________________________________________________________________________\n",
            "max_pooling1d (MaxPooling1D)    (None, 68, 32)       0           dropout[0][0]                    \n",
            "__________________________________________________________________________________________________\n",
            "max_pooling1d_1 (MaxPooling1D)  (None, 66, 32)       0           dropout_1[0][0]                  \n",
            "__________________________________________________________________________________________________\n",
            "flatten (Flatten)               (None, 2176)         0           max_pooling1d[0][0]              \n",
            "__________________________________________________________________________________________________\n",
            "flatten_1 (Flatten)             (None, 2112)         0           max_pooling1d_1[0][0]            \n",
            "__________________________________________________________________________________________________\n",
            "concatenate (Concatenate)       (None, 4288)         0           flatten[0][0]                    \n",
            "                                                                 flatten_1[0][0]                  \n",
            "__________________________________________________________________________________________________\n",
            "dense (Dense)                   (None, 10)           42890       concatenate[0][0]                \n",
            "__________________________________________________________________________________________________\n",
            "dense_1 (Dense)                 (None, 1)            11          dense[0][0]                      \n",
            "==================================================================================================\n",
            "Total params: 36,792,789\n",
            "Trainable params: 36,792,789\n",
            "Non-trainable params: 0\n",
            "__________________________________________________________________________________________________\n",
            "None\n"
          ],
          "name": "stdout"
        }
      ]
    },
    {
      "cell_type": "markdown",
      "metadata": {
        "colab_type": "text",
        "id": "nm5PmfIKqotL"
      },
      "source": [
        "### Train the model\n",
        "\n",
        "Train the model for 20 epochs in mini-batches of 512 samples. "
      ]
    },
    {
      "cell_type": "code",
      "metadata": {
        "colab_type": "code",
        "id": "10nCCLKeqotM",
        "colab": {}
      },
      "source": [
        "epoch_times = 20\n",
        "batch_size = 512"
      ],
      "execution_count": 0,
      "outputs": []
    },
    {
      "cell_type": "code",
      "metadata": {
        "colab_type": "code",
        "id": "lX0Ps7V5qotX",
        "outputId": "18d28f2a-79a4-4837-bf72-853ef0423e61",
        "scrolled": true,
        "colab": {
          "base_uri": "https://localhost:8080/",
          "height": 714
        }
      },
      "source": [
        "history = model.fit([train_data,train_data],\n",
        "                    train_labels,\n",
        "                    epochs= epoch_times,\n",
        "                    batch_size= batch_size,\n",
        "                    validation_data=([val_data, val_data], val_labels),\n",
        "                    verbose=1)"
      ],
      "execution_count": 0,
      "outputs": [
        {
          "output_type": "stream",
          "text": [
            "Train on 987472 samples, validate on 164579 samples\n",
            "Epoch 1/20\n",
            "987472/987472 [==============================] - 65s 66us/sample - loss: 0.2703 - acc: 0.8878 - val_loss: 0.2360 - val_acc: 0.9061\n",
            "Epoch 2/20\n",
            "987472/987472 [==============================] - 61s 62us/sample - loss: 0.2008 - acc: 0.9202 - val_loss: 0.2300 - val_acc: 0.9079\n",
            "Epoch 3/20\n",
            "987472/987472 [==============================] - 62s 62us/sample - loss: 0.1619 - acc: 0.9370 - val_loss: 0.2395 - val_acc: 0.9057\n",
            "Epoch 4/20\n",
            "987472/987472 [==============================] - 62s 62us/sample - loss: 0.1326 - acc: 0.9492 - val_loss: 0.2606 - val_acc: 0.9033\n",
            "Epoch 5/20\n",
            "987472/987472 [==============================] - 62s 62us/sample - loss: 0.1131 - acc: 0.9568 - val_loss: 0.2882 - val_acc: 0.9012\n",
            "Epoch 6/20\n",
            "987472/987472 [==============================] - 62s 62us/sample - loss: 0.1004 - acc: 0.9617 - val_loss: 0.3112 - val_acc: 0.8989\n",
            "Epoch 7/20\n",
            "987472/987472 [==============================] - 62s 63us/sample - loss: 0.0912 - acc: 0.9654 - val_loss: 0.3313 - val_acc: 0.8970\n",
            "Epoch 8/20\n",
            "987472/987472 [==============================] - 62s 63us/sample - loss: 0.0838 - acc: 0.9681 - val_loss: 0.3545 - val_acc: 0.8958\n",
            "Epoch 9/20\n",
            "987472/987472 [==============================] - 62s 63us/sample - loss: 0.0782 - acc: 0.9704 - val_loss: 0.3726 - val_acc: 0.8949\n",
            "Epoch 10/20\n",
            "987472/987472 [==============================] - 62s 62us/sample - loss: 0.0740 - acc: 0.9721 - val_loss: 0.3951 - val_acc: 0.8941\n",
            "Epoch 11/20\n",
            "987472/987472 [==============================] - 62s 62us/sample - loss: 0.0704 - acc: 0.9735 - val_loss: 0.4203 - val_acc: 0.8942\n",
            "Epoch 12/20\n",
            "987472/987472 [==============================] - 62s 63us/sample - loss: 0.0675 - acc: 0.9748 - val_loss: 0.4278 - val_acc: 0.8933\n",
            "Epoch 13/20\n",
            "987472/987472 [==============================] - 62s 63us/sample - loss: 0.0648 - acc: 0.9758 - val_loss: 0.4427 - val_acc: 0.8932\n",
            "Epoch 14/20\n",
            "987472/987472 [==============================] - 62s 62us/sample - loss: 0.0618 - acc: 0.9770 - val_loss: 0.4561 - val_acc: 0.8910\n",
            "Epoch 15/20\n",
            "987472/987472 [==============================] - 62s 63us/sample - loss: 0.0600 - acc: 0.9776 - val_loss: 0.4620 - val_acc: 0.8921\n",
            "Epoch 16/20\n",
            "987472/987472 [==============================] - 62s 63us/sample - loss: 0.0581 - acc: 0.9783 - val_loss: 0.5004 - val_acc: 0.8941\n",
            "Epoch 17/20\n",
            "987472/987472 [==============================] - 62s 63us/sample - loss: 0.0561 - acc: 0.9791 - val_loss: 0.5158 - val_acc: 0.8906\n",
            "Epoch 18/20\n",
            "987472/987472 [==============================] - 62s 63us/sample - loss: 0.0548 - acc: 0.9796 - val_loss: 0.5166 - val_acc: 0.8902\n",
            "Epoch 19/20\n",
            "987472/987472 [==============================] - 62s 62us/sample - loss: 0.0535 - acc: 0.9801 - val_loss: 0.5166 - val_acc: 0.8926\n",
            "Epoch 20/20\n",
            "987472/987472 [==============================] - 62s 62us/sample - loss: 0.0525 - acc: 0.9806 - val_loss: 0.5232 - val_acc: 0.8895\n"
          ],
          "name": "stdout"
        }
      ]
    },
    {
      "cell_type": "markdown",
      "metadata": {
        "colab_type": "text",
        "id": "4k2j1ei_qotc"
      },
      "source": [
        "### Evaluate the model"
      ]
    },
    {
      "cell_type": "code",
      "metadata": {
        "colab_type": "code",
        "id": "kYXyjW-cqote",
        "outputId": "56793be3-2be3-46da-dbcf-73492fc172dc",
        "colab": {
          "base_uri": "https://localhost:8080/",
          "height": 51
        }
      },
      "source": [
        "results_test = model.evaluate([test_data, test_data], test_labels)\n",
        "\n",
        "\n",
        "print(\"test data evaluated result\", results_test)"
      ],
      "execution_count": 0,
      "outputs": [
        {
          "output_type": "stream",
          "text": [
            "493737/493737 [==============================] - 28s 57us/sample - loss: 0.5229 - acc: 0.8898\n",
            "test data evaluated result [0.5229216749026603, 0.88981175]\n"
          ],
          "name": "stdout"
        }
      ]
    },
    {
      "cell_type": "markdown",
      "metadata": {
        "colab_type": "text",
        "id": "4w4Mz9Qtqotj"
      },
      "source": [
        "This approach achieves an accuracy of about 99% at trainning data. In test data, the accuracy approach to 89%."
      ]
    },
    {
      "cell_type": "markdown",
      "metadata": {
        "colab_type": "text",
        "id": "uT9PPnavqotl"
      },
      "source": [
        "### Create a graph of accuracy and loss over time"
      ]
    },
    {
      "cell_type": "code",
      "metadata": {
        "colab_type": "code",
        "id": "Afo7yIbsqotn",
        "outputId": "e35fcf79-6826-4c6d-dc00-ab5dd3b31bb9",
        "colab": {
          "base_uri": "https://localhost:8080/",
          "height": 34
        }
      },
      "source": [
        "history_dict = history.history\n",
        "history_dict.keys()"
      ],
      "execution_count": 0,
      "outputs": [
        {
          "output_type": "execute_result",
          "data": {
            "text/plain": [
              "dict_keys(['loss', 'acc', 'val_loss', 'val_acc'])"
            ]
          },
          "metadata": {
            "tags": []
          },
          "execution_count": 51
        }
      ]
    },
    {
      "cell_type": "code",
      "metadata": {
        "colab_type": "code",
        "id": "IvWVCt7dqots",
        "outputId": "3269eb45-5a43-4f94-ba93-fd2d5a2c4a69",
        "colab": {
          "base_uri": "https://localhost:8080/",
          "height": 295
        }
      },
      "source": [
        "import matplotlib.pyplot as plt\n",
        "\n",
        "acc = history_dict['acc']\n",
        "val_acc = history_dict['val_acc']\n",
        "loss = history_dict['loss']\n",
        "val_loss = history_dict['val_loss']\n",
        "\n",
        "epochs = range(1, len(acc) + 1)\n",
        "\n",
        "# \"bo\" is for \"blue dot\"\n",
        "plt.plot(epochs, loss, 'bo', label='Training loss')\n",
        "# b is for \"solid blue line\"\n",
        "plt.plot(epochs, val_loss, 'b', label='Validation loss')\n",
        "plt.title('Training and validation loss')\n",
        "plt.xlabel('Epochs')\n",
        "plt.ylabel('Loss')\n",
        "plt.legend()\n",
        "\n",
        "plt.show()"
      ],
      "execution_count": 0,
      "outputs": [
        {
          "output_type": "display_data",
          "data": {
            "image/png": "[encoded data removed]",
            "text/plain": [
              "<Figure size 432x288 with 1 Axes>"
            ]
          },
          "metadata": {
            "tags": []
          }
        }
      ]
    },
    {
      "cell_type": "code",
      "metadata": {
        "colab_type": "code",
        "id": "fI8vwWK2qotw",
        "outputId": "0cbbd9ca-9b0a-4fb9-d8ea-2723847085fc",
        "colab": {
          "base_uri": "https://localhost:8080/",
          "height": 295
        }
      },
      "source": [
        "plt.clf()   # clear figure\n",
        "\n",
        "plt.plot(epochs, acc, 'bo', label='Training acc')\n",
        "plt.plot(epochs, val_acc, 'b', label='Validation acc')\n",
        "plt.title('Training and validation accuracy')\n",
        "plt.xlabel('Epochs')\n",
        "plt.ylabel('Accuracy')\n",
        "plt.legend()\n",
        "\n",
        "plt.show()"
      ],
      "execution_count": 0,
      "outputs": [
        {
          "output_type": "display_data",
          "data": {
            "image/png": "[encoded data removed]",
            "text/plain": [
              "<Figure size 432x288 with 1 Axes>"
            ]
          },
          "metadata": {
            "tags": []
          }
        }
      ]
    },
    {
      "cell_type": "markdown",
      "metadata": {
        "id": "rVaM4ggI0uEc",
        "colab_type": "text"
      },
      "source": [
        "### Solution\n",
        "\n",
        "In this plot, the dots represent the training loss and accuracy, and the solid lines are the validation loss and accuracy.\n",
        "\n",
        "Notice the training loss decreases with each epoch and the training accuracy increases with each epoch. This is expected when using a gradient descent optimization—it should minimize the desired quantity on every iteration.\n",
        "\n",
        "This isn't the case for the validation loss and accuracy—they seem to peak after about 2 epochs. After this point, the model over-optimizes and learns representations specific to the training data that do not generalize to test data.\n",
        "\n",
        "For this particular case, we could prevent overfitting by simply stopping the training after 2 epochs.\n",
        "Later, you'll see how to do this automatically with a callback.\n"
      ]
    },
    {
      "cell_type": "code",
      "metadata": {
        "colab_type": "code",
        "id": "G43tht_9qot0",
        "outputId": "c6c52372-e0fa-40bb-8e96-c346e470e852",
        "colab": {
          "base_uri": "https://localhost:8080/",
          "height": 782
        }
      },
      "source": [
        "## Reduces the epoch times \n",
        "final_model = define_model(maxword, vocab_size)\n",
        "\n",
        "history = final_model.fit([train_data,train_data],\n",
        "                    train_labels,\n",
        "                    epochs= 2,\n",
        "                    batch_size= batch_size,\n",
        "                    validation_data=([val_data, val_data], val_labels),\n",
        "                    verbose=1)"
      ],
      "execution_count": 0,
      "outputs": [
        {
          "output_type": "stream",
          "text": [
            "Model: \"model_1\"\n",
            "__________________________________________________________________________________________________\n",
            "Layer (type)                    Output Shape         Param #     Connected to                     \n",
            "==================================================================================================\n",
            "input_3 (InputLayer)            [(None, 140)]        0                                            \n",
            "__________________________________________________________________________________________________\n",
            "input_4 (InputLayer)            [(None, 140)]        0                                            \n",
            "__________________________________________________________________________________________________\n",
            "embedding_2 (Embedding)         (None, 140, 64)      18362624    input_3[0][0]                    \n",
            "__________________________________________________________________________________________________\n",
            "embedding_3 (Embedding)         (None, 140, 64)      18362624    input_4[0][0]                    \n",
            "__________________________________________________________________________________________________\n",
            "conv1d_2 (Conv1D)               (None, 137, 32)      8224        embedding_2[0][0]                \n",
            "__________________________________________________________________________________________________\n",
            "conv1d_3 (Conv1D)               (None, 133, 32)      16416       embedding_3[0][0]                \n",
            "__________________________________________________________________________________________________\n",
            "dropout_2 (Dropout)             (None, 137, 32)      0           conv1d_2[0][0]                   \n",
            "__________________________________________________________________________________________________\n",
            "dropout_3 (Dropout)             (None, 133, 32)      0           conv1d_3[0][0]                   \n",
            "__________________________________________________________________________________________________\n",
            "max_pooling1d_2 (MaxPooling1D)  (None, 68, 32)       0           dropout_2[0][0]                  \n",
            "__________________________________________________________________________________________________\n",
            "max_pooling1d_3 (MaxPooling1D)  (None, 66, 32)       0           dropout_3[0][0]                  \n",
            "__________________________________________________________________________________________________\n",
            "flatten_2 (Flatten)             (None, 2176)         0           max_pooling1d_2[0][0]            \n",
            "__________________________________________________________________________________________________\n",
            "flatten_3 (Flatten)             (None, 2112)         0           max_pooling1d_3[0][0]            \n",
            "__________________________________________________________________________________________________\n",
            "concatenate_1 (Concatenate)     (None, 4288)         0           flatten_2[0][0]                  \n",
            "                                                                 flatten_3[0][0]                  \n",
            "__________________________________________________________________________________________________\n",
            "dense_2 (Dense)                 (None, 10)           42890       concatenate_1[0][0]              \n",
            "__________________________________________________________________________________________________\n",
            "dense_3 (Dense)                 (None, 1)            11          dense_2[0][0]                    \n",
            "==================================================================================================\n",
            "Total params: 36,792,789\n",
            "Trainable params: 36,792,789\n",
            "Non-trainable params: 0\n",
            "__________________________________________________________________________________________________\n",
            "None\n",
            "Train on 987472 samples, validate on 164579 samples\n",
            "Epoch 1/2\n",
            "987472/987472 [==============================] - 62s 63us/sample - loss: 0.2677 - acc: 0.8895 - val_loss: 0.2366 - val_acc: 0.9068\n",
            "Epoch 2/2\n",
            "987472/987472 [==============================] - 62s 63us/sample - loss: 0.1993 - acc: 0.9207 - val_loss: 0.2317 - val_acc: 0.9078\n"
          ],
          "name": "stdout"
        }
      ]
    },
    {
      "cell_type": "code",
      "metadata": {
        "id": "gkaSOmyi1fEN",
        "colab_type": "code",
        "outputId": "2aeeb11a-e8e1-4663-a538-aa0fa3e921b1",
        "colab": {
          "base_uri": "https://localhost:8080/",
          "height": 51
        }
      },
      "source": [
        "results_test = final_model.evaluate([test_data, test_data], test_labels)\n",
        "\n",
        "print(\"test data evaluated result\", results_test)"
      ],
      "execution_count": 0,
      "outputs": [
        {
          "output_type": "stream",
          "text": [
            "493737/493737 [==============================] - 28s 57us/sample - loss: 0.2326 - acc: 0.9080\n",
            "test data evaluated result [0.23256430606223444, 0.90796113]\n"
          ],
          "name": "stdout"
        }
      ]
    }
  ]
}